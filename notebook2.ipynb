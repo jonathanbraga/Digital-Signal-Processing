{
 "cells": [
  {
   "cell_type": "markdown",
   "metadata": {
    "collapsed": false
   },
   "source": [
    "<html> \n",
    "<body>\n",
    "\t<h1>Introdução histórica</h1>\n",
    "        <p>Historicamente falando a FFT tem sua peculiaridade,começando em 1805 quando Gauss tentou traçar a órbita de dois asteroides, Pallas e Juno.Assim ele desenvolveu a transformada discreta de Fourier (DFT), antes mesmo que Fourier publicasse os seu resultados em 1822, para que pudesse ser calculado a DFT, Gaus, inventou um algoritmo que é equivalente ao de Cooley e Tukey, criadores da FFT. Em 1965 J.W. Cooley e J.W. Tukey motivados pelo período de guerra que os EUA viva, interessados em descobrir um método para detectar testes nucleares soviéticos, desenvolveram um algorítimo que calculava a DFT da sequência de n números com mais eficiência, conseguindo usar seu algoritmo para detectar séries temporais sismológicas e conseguindo detectar os testes nucleares.</p> \n",
    "        <hr> \n",
    "<html>"
   ]
  },
  {
   "cell_type": "markdown",
   "metadata": {},
   "source": [
    "<html> \n",
    "<body>\n",
    "\n",
    "    <h1>Transformada de Fourier</h1>\n",
    "        \n",
    "       <p> A motivação para a transformada de Fourier veio com o estudo da série de Fourier. No estudo da série de Fourier, funções que são complicadas mas periódicas podem ser escritas através da soma de senos e cossenos. Devido as propriedades que o seno e o cosseno possuem é possível recuperar a amplitude de cada onda na série de Fourier. Muito dos casos é aconselhável usar  a forma de Euler, $$e^{(2 \\pi i \\theta)} = \\cos(2 \\pi \\theta) + i \\sin(2 \\pi \\theta)$$ Re-escrever senos e cossenos como exponenciais complexas faz-se necessário que o coeficiente de Fourier seja de valores complexos, a interpolação destes números complexos é que tanto a amplitude(ou tamanho) como a fase (ou  ângulo inicial) estão presentes na onda.</p>\n",
    "       <img src=\"img.gif\" alt=\"Smiley face\"> <div style=\"text-align:center\">caso a imagem não apareça, acesse o <a href=\"https://upload.wikimedia.org/wikipedia/commons/7/72/Fourier_transform_time_and_frequency_domains_%28small%29.gif\" target=\"_blank\">link</a></div>\n",
    "       <p>No primeiro frame da animação, a função $\\textit{f}$ é solucionada usando a série de Fourier : combinação linear de senos e cossenos (azul).A frequência que compões esses senos e cossenos que estão espalhados por todo o espectro de frequência, são representados como picos no domínio da frequência. A representação do domínio da frequência da função $\\hat{f}$, é construído baseado nos picos das frequências que aparecem na resolução da função.</p>\n",
    "   <hr>\n",
    "   \n",
    "</body>\n",
    "</html>"
   ]
  },
  {
   "cell_type": "markdown",
   "metadata": {},
   "source": [
    "<h1>Teste da transformada rápida de Fourier (FFT)</h1> \n",
    "<hr>\n",
    "<p>Nessa parte do trabalho iremos testar como o cálculo da FFT irá se comportar com as bibliotecas **Numpy** e **Scipy** </p>\n",
    "$$y[k]=\\sum\\limits_{n=0}^{\\mbox{N-1}} W_n  x[n]$$ \n",
    "$$W_n = e^{-2 \\pi j\\frac{km}{N}}$$\n",
    "<hr> \n",
    "<p>Iremos calcular a FFT de um vetor com 4096 valores aleatórios usando as bibliotecas propostas e assim iremos analisar o tempo de compilação de cada.</p>"
   ]
  },
  {
   "cell_type": "code",
   "execution_count": 1,
   "metadata": {
    "collapsed": false
   },
   "outputs": [],
   "source": [
    "#Definindo as Bibliotecas que iremos usar\n",
    "import cmath as mt \n",
    "from tabulate import tabulate\n",
    "import time\n",
    "import scipy as sc  #criando um objeto sc da classe scipy\n",
    "import numpy as nm  #criando um objeto nm da classe numpy\n",
    "import matplotlib.pyplot as plt #criando um objeto plt da classe matplotlib.pyplot\n",
    "%matplotlib inline\n",
    "import random \n",
    "import warnings\n",
    "warnings.filterwarnings('ignore')\n"
   ]
  },
  {
   "cell_type": "code",
   "execution_count": 15,
   "metadata": {
    "collapsed": false,
    "scrolled": true
   },
   "outputs": [
    {
     "name": "stdout",
     "output_type": "stream",
     "text": [
      "Para o Scipy teremos o tempo de 0.0009996891021728516 segundos ---\n",
      "Para o NUmpy teremos o tempo de 0.0010004043579101562 segundos ---\n"
     ]
    }
   ],
   "source": [
    "#-----------------Definindo quais serão os 4096 números------------------\n",
    "\n",
    "N = 4096 #tendo 4096 amostras\n",
    "x=[[int(1000*random.random()) for i in range(N)]]  #Gerando 4096 amostras com N variando de 0-1000\n",
    "\n",
    "\n",
    "#-----------------Usando o Scipy para FFT------------------\n",
    "\n",
    "start_time = time.time()\n",
    "y=sc.fft(x) \n",
    "timeScipy=(time.time() - start_time)\n",
    "print(\"Para o Scipy teremos o tempo de %s segundos ---\" % timeScipy)\n",
    "\n",
    "#-----------------Usando o Numpy para FFT------------------ \n",
    "\n",
    "start_time = time.time()\n",
    "y1=nm.fft.fft(x) \n",
    "timeNumpy=(time.time() - start_time)\n",
    "print(\"Para o NUmpy teremos o tempo de %s segundos ---\" % timeNumpy)  \n",
    "\n",
    "\n"
   ]
  },
  {
   "cell_type": "code",
   "execution_count": 18,
   "metadata": {
    "collapsed": false
   },
   "outputs": [
    {
     "name": "stdout",
     "output_type": "stream",
     "text": [
      "Para a código de FFT que desenvolvemos teremos o tempo de 0.014504432678222656 segundos ---\n"
     ]
    }
   ],
   "source": [
    "start_time = time.time()\n",
    "N=4096 \n",
    "y=0\n",
    "x=[] \n",
    "# Definindo o valores aleatórios do vetor X\n",
    "for i in range(N): \n",
    "    x.append(int(1000*random.random())) \n",
    "# Implementação da FFT\n",
    "for i in range(N):    \n",
    "    z=mt.cos(2*mt.pi*y/N)-1j*mt.sin(2*mt.pi*y/N)\n",
    "    x[i]=z  \n",
    "    y=y+1 \n",
    "timeMyFFt=(time.time() - start_time)\n",
    "print(\"Para a código de FFT que desenvolvemos teremos o tempo de %s segundos ---\" % timeMyFFt)"
   ]
  },
  {
   "cell_type": "markdown",
   "metadata": {},
   "source": [
    "<h1>Teste da transformada rápida de Fourier inversa (IFFT)</h1> \n",
    "<hr>\n",
    "<p>Nessa parte do trabalho iremos testar como o cálculo da IFFT irá se comportar com as bibliotecas **Numpy** e **Scipy** </p>\n",
    "$$x[n]=\\frac{1}{N} \\times \\sum\\limits_{n=0}^{\\mbox{N-1}} W_n  y[k]$$ \n",
    "$$W_n = e^{2 \\pi j\\frac{km}{N}}$$\n",
    "<hr> \n",
    "<p>Iremos calcular a IFFT de um vetor com 4096 valores aleatórios usando as bibliotecas propostas e assim iremos analisar o tempo de compilação de cada.</p>"
   ]
  },
  {
   "cell_type": "code",
   "execution_count": 4,
   "metadata": {
    "collapsed": false
   },
   "outputs": [
    {
     "name": "stdout",
     "output_type": "stream",
     "text": [
      "Para o Scipy teremos o tempo de 0.0 segundos ---\n",
      "Para o NUmpy teremos o tempo de 0.0 segundos ---\n"
     ]
    }
   ],
   "source": [
    "#-----------------Definindo quais serão os 4046 números------------------\n",
    "\n",
    "N = 4096 #tendo 4046 amostras\n",
    "x=[[int(1000*random.random()) for i in range(N)]]  #Gerando 4046 amostras com N variando de 0-1000\n",
    "\n",
    "\n",
    "#-----------------Usando o Scipy para IFFT------------------\n",
    "\n",
    "start_time = time.time()\n",
    "y=sc.ifft(x) \n",
    "timeScipy2=(time.time() - start_time)\n",
    "print(\"Para o Scipy teremos o tempo de %s segundos ---\" % timeScipy2)\n",
    "\n",
    "#-----------------Usando o Numpy para IFFT------------------ \n",
    "\n",
    "start_time = time.time()\n",
    "y1=nm.fft.ifft(x) \n",
    "timeNumpy2=(time.time() - start_time)\n",
    "print(\"Para o NUmpy teremos o tempo de %s segundos ---\" % timeNumpy2)  "
   ]
  },
  {
   "cell_type": "code",
   "execution_count": 19,
   "metadata": {
    "collapsed": false
   },
   "outputs": [
    {
     "name": "stdout",
     "output_type": "stream",
     "text": [
      "Para a código de IFFT que desenvolvemos teremos o tempo de 0.016506195068359375 segundos ---\n"
     ]
    }
   ],
   "source": [
    "start_time = time.time()\n",
    "N=4096 \n",
    "y=0\n",
    "x=[] \n",
    "# Definindo o valores aleatórios do vetor X\n",
    "for i in range(N): \n",
    "    x.append(int(1000*random.random())) \n",
    "# Implementação da IFFT\n",
    "for i in range(N):    \n",
    "    z=1/N*mt.cos(2*mt.pi*y/N)+1j*mt.sin(2*mt.pi*y/N)\n",
    "    x[i]=z  \n",
    "    y=y+1 \n",
    "timeMyIFFt=(time.time() - start_time)\n",
    "print(\"Para a código de IFFT que desenvolvemos teremos o tempo de %s segundos ---\" % timeMyIFFt) "
   ]
  },
  {
   "cell_type": "markdown",
   "metadata": {},
   "source": [
    "# Exemplo\n",
    "---\n",
    "<p>Para poder exemplificar o uso da FFT e da IFFT de uma forma ainda mais clara, iremos utilizar a soma de dois cossenos,onde:</p>\n",
    "\n",
    "$$2 \\times \\cos(30x \\times 5 \\pi) + 1.54 \\times \\sin(20x \\times 2 \\pi)$$\n",
    "\n",
    "Teremos $N=4096$ amostras aleatórias e um período de $T=\\frac{1}{800}$, assim poderemos testar como o **Scipy** e o **Numpy** irão trabalhar com a parte matemática e gráfica do resultado. Lembrando que anteriormente testamos as duas bibliotecas para calcular a FFT e a IFFT de um vetor com 4096 valores aleatórios.\n"
   ]
  },
  {
   "cell_type": "code",
   "execution_count": 6,
   "metadata": {
    "collapsed": false
   },
   "outputs": [
    {
     "data": {
      "image/png": "[encoded data removed]",
      "text/plain": [
       "<matplotlib.figure.Figure at 0x1eddf896898>"
      ]
     },
     "metadata": {},
     "output_type": "display_data"
    }
   ],
   "source": [
    "N = 4096\n",
    "T = 1.0 /800.0\n",
    "x = nm.linspace(0.0, N*T, N)\n",
    "y = 2*nm.cos(5*nm.pi*(30*x) ) + 1.54*nm.cos(2*nm.pi*(20*x) )\n",
    "\n",
    "xf = nm.linspace(0.0, 1.0/(2.0*T), N/2)\n",
    "plt.plot(xf, 2.0/N * nm.abs(y[0:N/2]))\n",
    "plt.grid()\n",
    "plt.show()"
   ]
  },
  {
   "cell_type": "markdown",
   "metadata": {},
   "source": [
    "<h2>Usando FFT</h2> \n",
    "<hr> \n",
    "<h4>Resolução do exemplo usando scipy</h4>"
   ]
  },
  {
   "cell_type": "code",
   "execution_count": 7,
   "metadata": {
    "collapsed": false,
    "scrolled": false
   },
   "outputs": [
    {
     "data": {
      "image/png": "[encoded data removed]",
      "text/plain": [
       "<matplotlib.figure.Figure at 0x1eddf951eb8>"
      ]
     },
     "metadata": {},
     "output_type": "display_data"
    },
    {
     "name": "stdout",
     "output_type": "stream",
     "text": [
      "Tempo de compilação para a biblioteca Numpy é de 0.14168572425842285 segundos ---\n"
     ]
    }
   ],
   "source": [
    "start_time = time.time()\n",
    "N = 4096\n",
    "T = 1.0 / 800.0\n",
    "x = sc.linspace(0.0, N*T, N)\n",
    "y = 2*nm.cos(5*nm.pi*(30*x) ) + 1.54*nm.cos(2*nm.pi*(20*x) )\n",
    "yf = sc.fft(y)\n",
    "xf = sc.linspace(0.0, 1.0/(2.0*T), N/2) \n",
    "\n",
    "\n",
    "plt.plot(xf, 2.0/N * nm.abs(yf[0:N/2]))\n",
    "plt.grid()\n",
    "plt.show() \n",
    "timePlotScipyFft=time.time() - start_time \n",
    "print(\"Tempo de compilação para a biblioteca Numpy é de %s segundos ---\" % timePlotScipyFft)"
   ]
  },
  {
   "cell_type": "markdown",
   "metadata": {},
   "source": [
    "<h4>Resolução do exemplo usando numpy</h4>"
   ]
  },
  {
   "cell_type": "code",
   "execution_count": 8,
   "metadata": {
    "collapsed": false
   },
   "outputs": [
    {
     "data": {
      "image/png": "[encoded data removed]",
      "text/plain": [
       "<matplotlib.figure.Figure at 0x1eddf99bf98>"
      ]
     },
     "metadata": {},
     "output_type": "display_data"
    },
    {
     "name": "stdout",
     "output_type": "stream",
     "text": [
      "Tempo de compilação para a biblioteca Numpy é de 0.1432499885559082 segundos ---\n"
     ]
    }
   ],
   "source": [
    "start_time = time.time()\n",
    "N = 4096\n",
    "T = 1.0 / 800.0\n",
    "x = nm.linspace(0.0, N*T, N)\n",
    "y = 2*nm.cos(5*nm.pi*(30*x) ) + 1.54*nm.cos(2*nm.pi*(20*x) )\n",
    "yf = nm.fft.fft(y)\n",
    "xf = nm.linspace(0.0, 1.0/(2.0*T), N/2)\n",
    "\n",
    "\n",
    "plt.plot(xf, 2.0/N * nm.abs(yf[0:N/2]))\n",
    "plt.grid()\n",
    "plt.show() \n",
    "timePlotNumpyFft=time.time() - start_time \n",
    "print(\"Tempo de compilação para a biblioteca Numpy é de %s segundos ---\" % timePlotNumpyFft)\n"
   ]
  },
  {
   "cell_type": "markdown",
   "metadata": {},
   "source": [
    "<h4>Resolução do exemplo usando numpy</h4>"
   ]
  },
  {
   "cell_type": "markdown",
   "metadata": {},
   "source": [
    "<h2>Usando IFFT</h2> \n",
    "<hr> \n",
    "<h4>Resolução do exemplo usando scipy</h4>"
   ]
  },
  {
   "cell_type": "code",
   "execution_count": 9,
   "metadata": {
    "collapsed": false
   },
   "outputs": [
    {
     "data": {
      "image/png": "[encoded data removed]",
      "text/plain": [
       "<matplotlib.figure.Figure at 0x1eddfa1f908>"
      ]
     },
     "metadata": {},
     "output_type": "display_data"
    },
    {
     "name": "stdout",
     "output_type": "stream",
     "text": [
      "Tempo de compilação para a biblioteca Scipy é de 0.21123075485229492 segundos ---\n"
     ]
    }
   ],
   "source": [
    "start_time = time.time()\n",
    "N = 4096\n",
    "T = 1.0 / 800.0\n",
    "x = sc.linspace(0.0, N*T, N)\n",
    "y = 2*nm.cos(5*nm.pi*(30*x) ) + 1.54*nm.cos(2*nm.pi*(20*x) )\n",
    "yf = sc.ifft(y)\n",
    "xf = sc.linspace(0.0, 1.0/(2.0*T), N/2) \n",
    "\n",
    "\n",
    "plt.plot(xf, 2.0/N * nm.abs(yf[0:N/2])) \n",
    "plt.grid()\n",
    "plt.show()  \n",
    "timePlotScipyIfft= time.time() - start_time\n",
    "print(\"Tempo de compilação para a biblioteca Scipy é de %s segundos ---\" % timePlotScipyIfft)"
   ]
  },
  {
   "cell_type": "markdown",
   "metadata": {},
   "source": [
    "<h4>Resolução do exemplo usando numpy</h4>"
   ]
  },
  {
   "cell_type": "code",
   "execution_count": 10,
   "metadata": {
    "collapsed": false
   },
   "outputs": [
    {
     "data": {
      "image/png": "[encoded data removed]",
      "text/plain": [
       "<matplotlib.figure.Figure at 0x1eddf9e1128>"
      ]
     },
     "metadata": {},
     "output_type": "display_data"
    },
    {
     "name": "stdout",
     "output_type": "stream",
     "text": [
      "Tempo de compilação para a biblioteca Numpy é de 0.15835905075073242 segundos ---\n"
     ]
    }
   ],
   "source": [
    "start_time = time.time()\n",
    "N = 4096\n",
    "T = 1.0 / 800.0\n",
    "x = nm.linspace(0.0, N*T, N)\n",
    "y = 2*nm.cos(5*nm.pi*(30*x) ) + 1.54*nm.cos(2*nm.pi*(20*x) )\n",
    "yf = nm.fft.ifft(y)\n",
    "xf = nm.linspace(0.0, 1.0/(2.0*T), N/2)\n",
    "\n",
    "\n",
    "plt.plot(xf, 2.0/N * nm.abs(yf[0:N/2])) \n",
    "plt.grid()\n",
    "plt.show() \n",
    "timePlotNumpyIfft= time.time() - start_time\n",
    "print(\"Tempo de compilação para a biblioteca Numpy é de %s segundos ---\" % timePlotNumpyIfft)"
   ]
  },
  {
   "cell_type": "markdown",
   "metadata": {},
   "source": [
    "# Conclusão \n",
    "----- \n",
    "Para o teste com o vetor de 4096 valores aleatórios temos o gráfico abaixo"
   ]
  },
  {
   "cell_type": "code",
   "execution_count": 11,
   "metadata": {
    "collapsed": false,
    "scrolled": true
   },
   "outputs": [
    {
     "data": {
      "text/plain": [
       "[<matplotlib.lines.Line2D at 0x1eddfa177f0>,\n",
       " <matplotlib.lines.Line2D at 0x1eddf901860>]"
      ]
     },
     "execution_count": 11,
     "metadata": {},
     "output_type": "execute_result"
    },
    {
     "data": {
      "image/png": "[encoded data removed]",
      "text/plain": [
       "<matplotlib.figure.Figure at 0x1eddfa17208>"
      ]
     },
     "metadata": {},
     "output_type": "display_data"
    }
   ],
   "source": [
    "k=[1,2,3] \n",
    "c=[timeScipy,timeNumpy,timeMyFFt] \n",
    "b=[timeScipy2,timeNumpy2,timeMyIFFt]\n",
    "plt.grid()\n",
    "plt.xlabel('Biblioteca usada') \n",
    "plt.ylabel('Tempo de compilação')\n",
    "plt.plot(k,c,'--o',k,b,'--o') \n"
   ]
  },
  {
   "cell_type": "markdown",
   "metadata": {},
   "source": [
    "<p>Onde temos que o verde representa o tempo de compilação da IFFT e o azul, temos o tempo de compilação da FFT onde a mesma tende a ter um tempo de compilação menor.A FFT tende nesse caso a ter um tempo de compilação menor,pois o intuito dela é converter um sinal do domínio do tempo para o domínio da frequência</p>"
   ]
  },
  {
   "cell_type": "code",
   "execution_count": 12,
   "metadata": {
    "collapsed": false
   },
   "outputs": [
    {
     "name": "stdout",
     "output_type": "stream",
     "text": [
      "+--------------------+----------------------------------+\n",
      "| Biblioteca usada   |   Tempo de compilação (segundos) |\n",
      "+====================+==================================+\n",
      "| Scipy - FFT        |                      0.0105989   |\n",
      "+--------------------+----------------------------------+\n",
      "| Numpy - FFT        |                      0.000999928 |\n",
      "+--------------------+----------------------------------+\n",
      "| MyFFt              |                      0.0312486   |\n",
      "+--------------------+----------------------------------+\n",
      "| Scipy - IFFT       |                      0           |\n",
      "+--------------------+----------------------------------+\n",
      "| Numpy - IFFT       |                      0           |\n",
      "+--------------------+----------------------------------+\n",
      "| MyIFFT             |                      0.0170002   |\n",
      "+--------------------+----------------------------------+\n"
     ]
    }
   ],
   "source": [
    "table = [[\"Scipy - FFT\",timeScipy],[\"Numpy - FFT\",timeNumpy],[\"MyFFt\",timeMyFFt],[\"Scipy - IFFT\",timeScipy2],\n",
    "         [\"Numpy - IFFT\",timeNumpy2],[\"MyIFFT\",timeMyIFFt]]\n",
    "headers = [\"Biblioteca usada\", \"Tempo de compilação (segundos)\"]\n",
    "print(tabulate(table, headers, tablefmt=\"grid\"))"
   ]
  },
  {
   "cell_type": "markdown",
   "metadata": {},
   "source": [
    "<p>Tabela referente ao tempo gasto para que cada biblioteca compile o cálculo da FFT e IFFT</p>"
   ]
  },
  {
   "cell_type": "markdown",
   "metadata": {},
   "source": [
    "<hr>  \n",
    "<h3>Conclusão do exemplo</h3>\n",
    "<p>Agora iremos construir um gráfico para melhor vizualizarmos de como as bibliotecas se comportam com a resolução completa -cálculo matemático e construção do gráfico- da soma dos cossenos.</p>"
   ]
  },
  {
   "cell_type": "code",
   "execution_count": 13,
   "metadata": {
    "collapsed": false
   },
   "outputs": [
    {
     "data": {
      "text/plain": [
       "[<matplotlib.lines.Line2D at 0x1eddf9d6128>,\n",
       " <matplotlib.lines.Line2D at 0x1eddfdfa1d0>]"
      ]
     },
     "execution_count": 13,
     "metadata": {},
     "output_type": "execute_result"
    },
    {
     "data": {
      "image/png": "[encoded data removed]",
      "text/plain": [
       "<matplotlib.figure.Figure at 0x1eddf9d6080>"
      ]
     },
     "metadata": {},
     "output_type": "display_data"
    }
   ],
   "source": [
    "k=[1,2] \n",
    "c=[timePlotScipyFft,timePlotNumpyFft] \n",
    "b=[timePlotScipyIfft,timePlotNumpyIfft]\n",
    "plt.grid()\n",
    "plt.xlabel('Biblioteca usada') \n",
    "plt.ylabel('Tempo de compilação')\n",
    "plt.plot(k,c,'--o',k,b,'--*') "
   ]
  },
  {
   "cell_type": "markdown",
   "metadata": {},
   "source": [
    "<p>Como o esperado, o tempo gasto para poder calcular a FFT tende a ser menor que o tempo gasto para calcular a IFFT</p>"
   ]
  },
  {
   "cell_type": "code",
   "execution_count": 14,
   "metadata": {
    "collapsed": false
   },
   "outputs": [
    {
     "name": "stdout",
     "output_type": "stream",
     "text": [
      "+--------------------+----------------------------------+\n",
      "| Biblioteca usada   |   Tempo de compilação (segundos) |\n",
      "+====================+==================================+\n",
      "| Scipy - FFT        |                         0.141686 |\n",
      "+--------------------+----------------------------------+\n",
      "| Numpy - FFT        |                         0.14325  |\n",
      "+--------------------+----------------------------------+\n",
      "| Scipy - IFFT       |                         0.211231 |\n",
      "+--------------------+----------------------------------+\n",
      "| Numpy - IFFT       |                         0.158359 |\n",
      "+--------------------+----------------------------------+\n"
     ]
    }
   ],
   "source": [
    "table = [[\"Scipy - FFT\",timePlotScipyFft],[\"Numpy - FFT\",timePlotNumpyFft],\n",
    "         [\"Scipy - IFFT\",timePlotScipyIfft],[\"Numpy - IFFT\",timePlotNumpyIfft]]\n",
    "headers = [\"Biblioteca usada\", \"Tempo de compilação (segundos)\"]\n",
    "print(tabulate(table, headers, tablefmt=\"grid\"))"
   ]
  },
  {
   "cell_type": "markdown",
   "metadata": {},
   "source": [
    "<p>Tabela referente ao tempo gasto para que cada biblioteca compile o cálculo e a construção do gráfico da soma dos cossenos, usando FFT e IFFT</p>"
   ]
  },
  {
   "cell_type": "markdown",
   "metadata": {},
   "source": [
    "<h3>Problemas encontrados</h3> \n",
    "<p>Para esse projeto tivemos alguns problemas no decorrer do desenvolvmento.O problema a ser destacado foi o usa e a instação do pyFFTW, não conseguimos instalar e nem usar,tentamos tanto no windows como no linux, não obtivemos sucesso</p>"
   ]
  },
  {
   "cell_type": "markdown",
   "metadata": {},
   "source": [
    "<html> \n",
    "<body>\n",
    "\t<h1>Referências</h1>\n",
    "\t<li>Taneja, HC (2008), \"Chapter 18: Fourier integrals and Fourier transforms\", Advanced Engineering Mathematics:, Volume 2, New Delhi, India: I. K. International Pvt Ltd, ISBN 8189866567.</li> \n",
    "    \t<li>www.astro.if.ufrgs.br/med/imagens/fourier.htm</li>\n",
    "        <li>www.en.wikipedia.org/wiki/Fourier_transform#CITEREFTaneja2008</li>\n",
    "        <li>www.docs.scipy.org/doc/numpy-1.10.1/index.html</li>\n",
    "        <li>www.cis.rit.edu/class/simg716/Gauss_History_FFT.pdf</li>\n",
    "        <li>www2.math.ethz.ch/education/bachelor/seminars/fs2008/nas/woerner.pdf</li> \n",
    "        <li>www.en.wikipedia.org/wiki/File:Fourier_transform_time_and_frequency_domains_(small).gif</li> \n",
    "        <li>www.pypi.python.org/pypi/tabulate</li> \n",
    "        <li>www.researchgate.net/post/Why_do_we_use_IFFT</li>\n",
    "</body>\n",
    "<html>\n"
   ]
  }
 ],
 "metadata": {
  "kernelspec": {
   "display_name": "Python 3",
   "language": "python",
   "name": "python3"
  },
  "language_info": {
   "codemirror_mode": {
    "name": "ipython",
    "version": 3
   },
   "file_extension": ".py",
   "mimetype": "text/x-python",
   "name": "python",
   "nbconvert_exporter": "python",
   "pygments_lexer": "ipython3",
   "version": "3.5.1"
  }
 },
 "nbformat": 4,
 "nbformat_minor": 0
}
