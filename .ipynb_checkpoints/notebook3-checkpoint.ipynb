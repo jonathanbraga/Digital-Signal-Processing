{
 "cells": [
  {
   "cell_type": "markdown",
   "metadata": {},
   "source": [
    "# Sumário\n",
    "<ul>\n",
    "    <li><a href=\"#Teste-da-transformada-rápida-de-Fourier-(FFT)\">FFT</a></li>\n",
    "        <ul> \n",
    "            <li><a href=\"#Resolução-da-FFT-usando-a-função-nativa\">Usando a função nativa do Julia</a></li> \n",
    "            <li><a href=\"#Resolução-da-FFT-usando-myFFT\">Usando a função myFFT</a></li>\n",
    "        </ul> \n",
    "     <li><a href=\"#Teste-da-transformada-rápida-de-Fourier-inversa-(IFFT)\">IFFT</a></li> \n",
    "         <ul> \n",
    "            <li><a href=\"#Resolução-da-FFT-usando-a-função-nativa\">Usando a função nativa do Julia</a></li> \n",
    "            <li><a href=\"#Resolução-da-IFFT-usando-myIFFT\">Usando a função myIFFT</a></li>\n",
    "        </ul> \n",
    "      <li><a href=\"#Conclusão\">Conclusão</a></li>\n",
    "      <li><a href=\"#Referências\">Referência</a></li>\n",
    "<ul> \n",
    "\n"
   ]
  },
  {
   "cell_type": "markdown",
   "metadata": {},
   "source": [
    "<h1>Teste da transformada rápida de Fourier (FFT)</h1> \n",
    "<hr>\n",
    "<p>Nessa parte do trabalho iremos testar como o cálculo da FFT irá se comportar com as bibliotecas **Numpy** e **Scipy**. \n",
    "Cooley e Tukey mostraram que é possível dividir a DFT em duas partes similiares. Portanto pela pela definição da DFT teremos:</p> <br>\n",
    "$$y[k]=\\sum\\limits_{n=0}^{\\mbox{N-1}} W_n  x[n]\\\\$$ \n",
    "$$W_n = e^{-2 \\pi j\\frac{km}{N}}\\\\$$\n",
    "$$= \\sum_{m=0}^{N/2 - 1} x_{2m} \\cdot e^{-i~2\\pi~k~(2m)~/~N} + \\sum_{m=0}^{N/2 - 1} x_{2m + 1} \\cdot e^{-i~2\\pi~k~(2m + 1)~/~N}\\\\$$ \n",
    "\n",
    "$$ =\\sum_{m=0}^{N/2 - 1} x_{2m} \\cdot e^{-i~2\\pi~k~m~/~(N/2)} + e^{-i~2\\pi~k~/~N} \\sum_{m=0}^{N/2 - 1} x_{2m + 1} \\cdot e^{-i~2\\pi~k~m~/~(N/2)}\\\\$$\n",
    "<hr> \n",
    "<p>Concluindo que dessa forma, podemos obter uma forma de calcular a FFT. Iremos calcular a FFT de um vetor com 4096 valores aleatórios usando as bibliotecas propostas e assim iremos analisar o tempo de compilação de cada.</p>"
   ]
  },
  {
   "cell_type": "markdown",
   "metadata": {},
   "source": [
    "<h4>Resolução da FFT usando a função nativa</h4>"
   ]
  },
  {
   "cell_type": "code",
   "execution_count": 6,
   "metadata": {
    "collapsed": false
   },
   "outputs": [
    {
     "name": "stdout",
     "output_type": "stream",
     "text": [
      "  0.000165 seconds (66 allocations: 131.141 KB)\n"
     ]
    }
   ],
   "source": [
    "# Aqui iremos implementar o  o cálcula da FFT usando julia\n",
    "vetorFftJulia=[1:1:4096];\n",
    "@time fft(vetorFftJulia);"
   ]
  },
  {
   "cell_type": "markdown",
   "metadata": {},
   "source": [
    "<h4>Resolução da FFT usando myFFT</h4>"
   ]
  },
  {
   "cell_type": "code",
   "execution_count": 7,
   "metadata": {
    "collapsed": false
   },
   "outputs": [
    {
     "data": {
      "text/plain": [
       "myfft (generic function with 1 method)"
      ]
     },
     "execution_count": 7,
     "metadata": {},
     "output_type": "execute_result"
    }
   ],
   "source": [
    "# criando a função myIFFT, proposta para o trabalho\n",
    "function myifft(x) \n",
    "    N=4096\n",
    "    par=Complex32[1:1:N]; \n",
    "    impar=Complex32[1:1:N];\n",
    "    N=4096    \n",
    "    for i=1:N \n",
    "        if i%2 == 0 \n",
    "            par[i]=x[i] \n",
    "        elseif i%2 == 1 \n",
    "            impar[i]=x[i]\n",
    "        end\n",
    "    end \n",
    "    N1=N/2\n",
    "    for i=1:N1 \n",
    "        par[i]=par[i]*exp(-1im*2*pi*i/N1) + exp(-1im*pi/N)        \n",
    "        for j=1:N1 \n",
    "            impar[j]=par[i]*impar[j]*exp(-1im*2*pi*i/N1) \n",
    "        end \n",
    "    end\n",
    "    \n",
    "end"
   ]
  },
  {
   "cell_type": "code",
   "execution_count": 8,
   "metadata": {
    "collapsed": false
   },
   "outputs": [
    {
     "name": "stdout",
     "output_type": "stream",
     "text": [
      "  0.009181 seconds (3.94 k allocations: 181.248 KB)\n"
     ]
    }
   ],
   "source": [
    "N=4096 \n",
    "vetorFftMy=Complex32[1:1:N];\n",
    "@time myfft(vetorFftMy)"
   ]
  },
  {
   "cell_type": "markdown",
   "metadata": {
    "collapsed": true
   },
   "source": [
    "<h1>Teste da transformada rápida de Fourier inversa (IFFT)</h1> \n",
    "<hr>\n",
    "<p>Nessa parte do trabalho iremos testar como o cálculo da IFFT irá se comportar com as bibliotecas **Numpy** e **Scipy** \n",
    "Cooley e Tukey mostraram que é possível dividir a IDFT em duas partes similiares. Pela definição da IDFT teremos:</p> <br>\n",
    "$$y[k]=\\frac{1}{N} \\times \\sum\\limits_{n=0}^{\\mbox{N-1}} W_n  x[n]\\\\$$ \n",
    "$$W_n = e^{2 \\pi j\\frac{km}{N}}\\\\$$\n",
    "$$=\\frac{1}{N} \\times \\sum_{m=0}^{N/2 - 1} x_{2m} \\cdot e^{i~2\\pi~k~(2m)~/~N} + \\frac{1}{N} \\times\\sum_{m=0}^{N/2 - 1} x_{2m + 1} \\cdot e^{i~2\\pi~k~(2m + 1)~/~N}\\\\$$ \n",
    "\n",
    "$$= \\frac{1}{N} \\times \\sum_{m=0}^{N/2 - 1} x_{2m} \\cdot e^{i~2\\pi~k~m~/~(N/2)} + e^{i~2\\pi~k~/~N} \\frac{1}{N} \\times \\sum_{m=0}^{N/2 - 1} x_{2m + 1} \\cdot e^{i~2\\pi~k~m~/~(N/2)}\\\\$$\n",
    "<hr> \n",
    "<p>Concluindo que dessa forma, podemos obter uma forma de calcular a IFFT. Iremos calcular a IFFT de um vetor com 4096 valores aleatórios usando as bibliotecas propostas e assim iremos analisar o tempo de compilação de cada.</p>"
   ]
  },
  {
   "cell_type": "markdown",
   "metadata": {},
   "source": [
    "<h4>Resolução da IFFT usando a função nativa</h4>"
   ]
  },
  {
   "cell_type": "code",
   "execution_count": 36,
   "metadata": {
    "collapsed": false
   },
   "outputs": [
    {
     "name": "stdout",
     "output_type": "stream",
     "text": [
      "  0.000211 seconds (76 allocations: 131.688 KB)\n"
     ]
    }
   ],
   "source": [
    "# Aqui iremos implementar o  o cálcula da FFT usando julia\n",
    "vetorIfftJulia=[1:1:4096];\n",
    "@time ifft(vetorIfftJulia); "
   ]
  },
  {
   "cell_type": "markdown",
   "metadata": {},
   "source": [
    "<h4>Resolução da IFFT usando myIFFT</h4>"
   ]
  },
  {
   "cell_type": "code",
   "execution_count": null,
   "metadata": {
    "collapsed": false
   },
   "outputs": [],
   "source": [
    "# criando a função myIFFT, proposta para o trabalho\n",
    "function myifft(x) \n",
    "    N=4096\n",
    "    par=Complex32[1:1:N]; \n",
    "    impar=Complex32[1:1:N];\n",
    "    N=4096    \n",
    "    for i=1:N \n",
    "        if i%2 == 0 \n",
    "            par[i]=x[i] \n",
    "        elseif i%2 == 1 \n",
    "            impar[i]=x[i]\n",
    "        end\n",
    "    end \n",
    "    N1=N/2\n",
    "    for i=1:N1 \n",
    "        par[i]=1/N*par[i]*exp(-1im*2*pi*i/N1) + exp(-1im*pi/N)        \n",
    "        for j=1:N1 \n",
    "            impar[j]=1/N*par[i]*impar[j]*exp(-1im*2*pi*i/N1) \n",
    "        end \n",
    "    end\n",
    "    \n",
    "end"
   ]
  },
  {
   "cell_type": "code",
   "execution_count": null,
   "metadata": {
    "collapsed": false
   },
   "outputs": [],
   "source": [
    "N=4096 \n",
    "vetorIfftMy=Complex32[1:1:N];\n",
    "@time myifft(vetorIfftMy)"
   ]
  },
  {
   "cell_type": "markdown",
   "metadata": {
    "collapsed": true
   },
   "source": [
    "# Conclusão \n",
    "---- \n",
    "Ao termino do trabalho podemos concluir que assim como no Python(notebook 2), as bibliotecas ou funções nativas(no caso do julia,que já nos fornece uma gama de funções), tiveram um tempo de compilação menor,para as funções FFT() e IFFT(),já para as funções myFFT() e myIFFT() - que foram criadas no decorrer do trabalho- tiveram um tempo de compilação maior."
   ]
  },
  {
   "cell_type": "markdown",
   "metadata": {
    "collapsed": true
   },
   "source": [
    "# Referências \n",
    "----- \n",
    "<li>www.docs.julialang.org/en/release-0.4/manual/</li>\n",
    "<li>www.en.wikibooks.org/wiki/Introducing_Julia/</li>"
   ]
  }
 ],
 "metadata": {
  "kernelspec": {
   "display_name": "Julia 0.4.5",
   "language": "julia",
   "name": "julia-0.4"
  },
  "language_info": {
   "file_extension": ".jl",
   "mimetype": "application/julia",
   "name": "julia",
   "version": "0.4.5"
  }
 },
 "nbformat": 4,
 "nbformat_minor": 0
}
