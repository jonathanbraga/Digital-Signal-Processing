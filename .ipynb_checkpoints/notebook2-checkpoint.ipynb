{
 "cells": [
  {
   "cell_type": "markdown",
   "metadata": {
    "collapsed": false
   },
   "source": [
    "<html> \n",
    "<body>\n",
    "\t<h1>Introdução histórica</h1>\n",
    "        <p>Historicamente falando a FFT tem sua peculiaridade,começando em 1805 quando Gauss tentou traçar a órbita de dois asteroides, Pallas e Juno.Assim ele desenvolveu a transformada discreta de Fourier (DFT), antes mesmo que Fourier publicasse os seu resultados em 1822, para que pudesse ser calculado a DFT, Gaus, inventou um algoritmo que é equivalente ao de Cooley e Tukey, criadores da FFT. Em 1965 J.W. Cooley e J.W. Tukey motivados pelo período de guerra que os EUA viva, interessados em descobrir um método para detectar testes nucleares soviéticos, desenvolveram um algorítimo que calculava a DFT da sequência de n números com mais eficiência, conseguindo usar seu algoritmo para detectar séries temporais sismológicas e conseguindo detectar os testes nucleares.</p> \n",
    "        <hr> \n",
    "<html>"
   ]
  },
  {
   "cell_type": "markdown",
   "metadata": {},
   "source": [
    "<html> \n",
    "<body>\n",
    "\n",
    "    <h1>Transformada de Fourier</h1>\n",
    "        \n",
    "       <p> A motivação para a transformada de Fourier veio com o estudo da série de Fourier. No estudo da série de Fourier, funções que são complicadas mas periódicas podem ser escritas através da soma de senos e cossenos. Devido as propriedades que o seno e o cosseno possuem é possível recuperar a amplitude de cada onda na série de Fourier. Muito dos casos é aconselhável usar  a forma de Euler, $$e^{(2 \\pi i \\theta)} = \\cos(2 \\pi \\theta) + i \\sin(2 \\pi \\theta)$$ Re-escrever senos e cossenos como exponenciais complexas faz-se necessário que o coeficiente de Fourier seja de valores complexos, a interpolação destes números complexos é que tanto a amplitude(ou tamanho) como a fase (ou  ângulo inicial) estão presentes na onda.</p>\n",
    "       <img src=\"img.gif\" alt=\"Smiley face\"> <div style=\"text-align:center\">caso a imagem não apareça, acesse o <a href=\"https://upload.wikimedia.org/wikipedia/commons/7/72/Fourier_transform_time_and_frequency_domains_%28small%29.gif\" target=\"_blank\">link</a></div>\n",
    "       <p>No primeiro frame da animação, a função $\\textit{f}$ é solucionada usando a série de Fourier : combinação linear de senos e cossenos (azul).A frequência que compões esses senos e cossenos que estão espalhados por todo o espectro de frequência, são representados como picos no domínio da frequência. A representação do domínio da frequência da função $\\hat{f}$, é construído baseado nos picos das frequências que aparecem na resolução da função.</p>\n",
    "   <hr>\n",
    "   \n",
    "</body>\n",
    "</html>"
   ]
  },
  {
   "cell_type": "markdown",
   "metadata": {},
   "source": [
    "<h1>Teste da transformada rápida de Fourier (FFT)</h1> \n",
    "<hr>\n",
    "<p>Nessa parte do trabalho iremos testar como o cálculo da FFT irá se comportar com as bibliotecas **Numpy** e **Scipy**. \n",
    "Cooley e Tukey mostraram que é possível dividir a DFT em duas partes similiares. Portanto pela pela definição da DFT teremos:</p> <br>\n",
    "$$y[k]=\\sum\\limits_{n=0}^{\\mbox{N-1}} W_n  x[n]\\\\$$ \n",
    "$$W_n = e^{-2 \\pi j\\frac{km}{N}}\\\\$$\n",
    "$$= \\sum_{m=0}^{N/2 - 1} x_{2m} \\cdot e^{-i~2\\pi~k~(2m)~/~N} + \\sum_{m=0}^{N/2 - 1} x_{2m + 1} \\cdot e^{-i~2\\pi~k~(2m + 1)~/~N}\\\\$$ \n",
    "\n",
    "$$ =\\sum_{m=0}^{N/2 - 1} x_{2m} \\cdot e^{-i~2\\pi~k~m~/~(N/2)} + e^{-i~2\\pi~k~/~N} \\sum_{m=0}^{N/2 - 1} x_{2m + 1} \\cdot e^{-i~2\\pi~k~m~/~(N/2)}\\\\$$\n",
    "<hr> \n",
    "<p>Concluindo que dessa forma, podemos obter uma forma de calcular a FFT. Iremos calcular a FFT de um vetor com 4096 valores aleatórios usando as bibliotecas propostas e assim iremos analisar o tempo de compilação de cada.</p>"
   ]
  },
  {
   "cell_type": "code",
   "execution_count": 56,
   "metadata": {
    "collapsed": false
   },
   "outputs": [],
   "source": [
    "#Definindo as Bibliotecas que iremos usar\n",
    "import cmath as mt \n",
    "from tabulate import tabulate\n",
    "import time\n",
    "import scipy as sc  #criando um objeto sc da classe scipy\n",
    "import numpy as nm  #criando um objeto nm da classe numpy\n",
    "import matplotlib.pyplot as plt #criando um objeto plt da classe matplotlib.pyplot\n",
    "%matplotlib inline\n",
    "import random \n",
    "import warnings\n",
    "warnings.filterwarnings('ignore')\n"
   ]
  },
  {
   "cell_type": "code",
   "execution_count": 57,
   "metadata": {
    "collapsed": false,
    "scrolled": true
   },
   "outputs": [
    {
     "name": "stdout",
     "output_type": "stream",
     "text": [
      "Para o Scipy teremos o tempo de 0.0010008811950683594 segundos ---\n",
      "Para o NUmpy teremos o tempo de 0.0009996891021728516 segundos ---\n"
     ]
    }
   ],
   "source": [
    "#-----------------Definindo quais serão os 4096 números------------------\n",
    "\n",
    "N = 4096 #tendo 4096 amostras\n",
    "x=[[int(1000*random.random()) for i in range(N)]]  #Gerando 4096 amostras com N variando de 0-1000\n",
    "\n",
    "\n",
    "#-----------------Usando o Scipy para FFT------------------\n",
    "\n",
    "start_time = time.time()\n",
    "y=sc.fft(x) \n",
    "timeScipy=(time.time() - start_time)\n",
    "print(\"Para o Scipy teremos o tempo de %s segundos ---\" % timeScipy)\n",
    "\n",
    "#-----------------Usando o Numpy para FFT------------------ \n",
    "\n",
    "start_time = time.time()\n",
    "y1=nm.fft.fft(x) \n",
    "timeNumpy=(time.time() - start_time)\n",
    "print(\"Para o NUmpy teremos o tempo de %s segundos ---\" % timeNumpy)  \n",
    "\n",
    "\n"
   ]
  },
  {
   "cell_type": "code",
   "execution_count": 58,
   "metadata": {
    "collapsed": false
   },
   "outputs": [
    {
     "name": "stdout",
     "output_type": "stream",
     "text": [
      "Para a código de FFT que desenvolvemos teremos o tempo de 5.602217435836792 segundos ---\n"
     ]
    }
   ],
   "source": [
    "start_time = time.time()\n",
    "N=4096\n",
    "#vetor que irá conter todos os nossos valores\n",
    "x=[]\n",
    "#vetor que vai conter todos os valores das  posições pares \n",
    "par=[] \n",
    "#vetor que vai conter todos os valores das  posições impares\n",
    "impar=[]  \n",
    "#vetor que irá conter o valor final da nossa FFT\n",
    "vetorFinal=[]\n",
    "k=0\n",
    "for i in range(N): \n",
    "    x.append(int(1000*random.random())) \n",
    "for i in range(N):\n",
    "    aux=k%2\n",
    "    if aux == 0:        \n",
    "        par.append(x[k]) \n",
    "    if aux == 1: \n",
    "        impar.append(x[k])\n",
    "    k=k+1\n",
    "tamanhoPar=len(par) \n",
    "tamanhoImpar=len(impar)\n",
    "k2=0\n",
    "for i in range(tamanhoPar):\n",
    "    par[i]=par[i]*mt.exp(-1j*2*mt.pi*k2/tamanhoPar) + mt.exp(-1j*mt.pi/N)\n",
    "    for j in range(tamanhoImpar) :\n",
    "        impar[j]=par[i]*impar[j]*mt.exp(-1j*2*mt.pi*k2/tamanhoImpar)\n",
    "    k2=k2+1\n",
    "    \n",
    "vetorFinal=nm.concatenate((par,impar),axis=0)\n",
    "timeMyFFt=(time.time() - start_time)\n",
    "print(\"Para a código de FFT que desenvolvemos teremos o tempo de %s segundos ---\" % timeMyFFt)"
   ]
  },
  {
   "cell_type": "markdown",
   "metadata": {},
   "source": [
    "<h1>Teste da transformada rápida de Fourier inversa (IFFT)</h1> \n",
    "<hr>\n",
    "<p>Nessa parte do trabalho iremos testar como o cálculo da IFFT irá se comportar com as bibliotecas **Numpy** e **Scipy** \n",
    "Cooley e Tukey mostraram que é possível dividir a IDFT em duas partes similiares. Pela definição da IDFT teremos:</p> <br>\n",
    "$$y[k]=\\frac{1}{N} \\times \\sum\\limits_{n=0}^{\\mbox{N-1}} W_n  x[n]\\\\$$ \n",
    "$$W_n = e^{2 \\pi j\\frac{km}{N}}\\\\$$\n",
    "$$=\\frac{1}{N} \\times \\sum_{m=0}^{N/2 - 1} x_{2m} \\cdot e^{i~2\\pi~k~(2m)~/~N} + \\frac{1}{N} \\times\\sum_{m=0}^{N/2 - 1} x_{2m + 1} \\cdot e^{i~2\\pi~k~(2m + 1)~/~N}\\\\$$ \n",
    "\n",
    "$$= \\frac{1}{N} \\times \\sum_{m=0}^{N/2 - 1} x_{2m} \\cdot e^{i~2\\pi~k~m~/~(N/2)} + e^{i~2\\pi~k~/~N} \\frac{1}{N} \\times \\sum_{m=0}^{N/2 - 1} x_{2m + 1} \\cdot e^{i~2\\pi~k~m~/~(N/2)}\\\\$$\n",
    "<hr> \n",
    "<p>Concluindo que dessa forma, podemos obter uma forma de calcular a IFFT. Iremos calcular a IFFT de um vetor com 4096 valores aleatórios usando as bibliotecas propostas e assim iremos analisar o tempo de compilação de cada.</p>"
   ]
  },
  {
   "cell_type": "code",
   "execution_count": 59,
   "metadata": {
    "collapsed": false
   },
   "outputs": [
    {
     "name": "stdout",
     "output_type": "stream",
     "text": [
      "Para o Scipy teremos o tempo de 0.0014994144439697266 segundos ---\n",
      "Para o NUmpy teremos o tempo de 0.0015010833740234375 segundos ---\n"
     ]
    }
   ],
   "source": [
    "#-----------------Definindo quais serão os 4046 números------------------\n",
    "\n",
    "N = 4096 #tendo 4046 amostras\n",
    "x=[[int(1000*random.random()) for i in range(N)]]  #Gerando 4046 amostras com N variando de 0-1000\n",
    "\n",
    "\n",
    "#-----------------Usando o Scipy para IFFT------------------\n",
    "\n",
    "start_time = time.time()\n",
    "y=sc.ifft(x) \n",
    "timeScipy2=(time.time() - start_time)\n",
    "print(\"Para o Scipy teremos o tempo de %s segundos ---\" % timeScipy2)\n",
    "\n",
    "#-----------------Usando o Numpy para IFFT------------------ \n",
    "\n",
    "start_time = time.time()\n",
    "y1=nm.fft.ifft(x) \n",
    "timeNumpy2=(time.time() - start_time)\n",
    "print(\"Para o NUmpy teremos o tempo de %s segundos ---\" % timeNumpy2)  "
   ]
  },
  {
   "cell_type": "code",
   "execution_count": 60,
   "metadata": {
    "collapsed": false
   },
   "outputs": [
    {
     "name": "stdout",
     "output_type": "stream",
     "text": [
      "Para a código de IFFT que desenvolvemos teremos o tempo de 6.79473876953125 segundos ---\n"
     ]
    }
   ],
   "source": [
    "start_time = time.time()\n",
    "N=4096\n",
    "#vetor que irá conter todos os nossos valores\n",
    "x=[]\n",
    "#vetor que vai conter todos os valores das  posições pares \n",
    "par=[] \n",
    "#vetor que vai conter todos os valores das  posições impares\n",
    "impar=[]  \n",
    "#vetor que irá conter o valor final da nossa FFT\n",
    "vetorFinal=[]\n",
    "k=0\n",
    "for i in range(N): \n",
    "    x.append(int(1000*random.random())) \n",
    "for i in range(N):\n",
    "    aux=k%2\n",
    "    if aux == 0:        \n",
    "        par.append(x[k]) \n",
    "    if aux == 1: \n",
    "        impar.append(x[k])\n",
    "    k=k+1\n",
    "tamanhoPar=len(par) \n",
    "tamanhoImpar=len(impar)\n",
    "k2=0\n",
    "for i in range(tamanhoPar):\n",
    "    par[i]=1/N*par[i]*mt.exp(-1j*2*mt.pi*k2/tamanhoPar) + mt.exp(-1j*mt.pi/N)\n",
    "    for j in range(tamanhoImpar) :\n",
    "        impar[j]=1/N*par[i]*impar[j]*mt.exp(-1j*2*mt.pi*k2/tamanhoImpar)\n",
    "    k2=k2+1\n",
    "    \n",
    "vetorFinal=nm.concatenate((par,impar),axis=0) \n",
    "timeMyIFFt=(time.time() - start_time)\n",
    "print(\"Para a código de IFFT que desenvolvemos teremos o tempo de %s segundos ---\" % timeMyIFFt) "
   ]
  },
  {
   "cell_type": "markdown",
   "metadata": {},
   "source": [
    "# Exemplo\n",
    "---\n",
    "<p>Para poder exemplificar o uso da FFT e da IFFT de uma forma ainda mais clara, iremos utilizar a soma de dois cossenos,onde:</p>\n",
    "\n",
    "$$2 \\times \\cos(30x \\times 5 \\pi) + 1.54 \\times \\sin(20x \\times 2 \\pi)$$\n",
    "\n",
    "Teremos $N=4096$ amostras aleatórias e um período de $T=\\frac{1}{800}$, assim poderemos testar como o **Scipy** e o **Numpy** irão trabalhar com a parte matemática e gráfica do resultado. Lembrando que anteriormente testamos as duas bibliotecas para calcular a FFT e a IFFT de um vetor com 4096 valores aleatórios.\n"
   ]
  },
  {
   "cell_type": "code",
   "execution_count": 61,
   "metadata": {
    "collapsed": false
   },
   "outputs": [
    {
     "data": {
      "image/png": "[encoded data removed]",
      "text/plain": [
       "<matplotlib.figure.Figure at 0x18013c75dd8>"
      ]
     },
     "metadata": {},
     "output_type": "display_data"
    }
   ],
   "source": [
    "N = 4096\n",
    "T = 1.0 /800.0\n",
    "x = nm.linspace(0.0, N*T, N)\n",
    "y = 2*nm.cos(5*nm.pi*(30*x) ) + 1.54*nm.cos(2*nm.pi*(20*x) )\n",
    "\n",
    "xf = nm.linspace(0.0, 1.0/(2.0*T), N/2)\n",
    "plt.plot(xf, 2.0/N * nm.abs(y[0:N/2]))\n",
    "plt.grid()\n",
    "plt.show()"
   ]
  },
  {
   "cell_type": "markdown",
   "metadata": {},
   "source": [
    "<h2>Usando FFT</h2> \n",
    "<hr> \n",
    "<h4>Resolução do exemplo usando scipy</h4>"
   ]
  },
  {
   "cell_type": "code",
   "execution_count": 62,
   "metadata": {
    "collapsed": false,
    "scrolled": false
   },
   "outputs": [
    {
     "data": {
      "image/png": "[encoded data removed]",
      "text/plain": [
       "<matplotlib.figure.Figure at 0x18013c79d30>"
      ]
     },
     "metadata": {},
     "output_type": "display_data"
    },
    {
     "name": "stdout",
     "output_type": "stream",
     "text": [
      "Tempo de compilação para a biblioteca Numpy é de 0.16166067123413086 segundos ---\n"
     ]
    }
   ],
   "source": [
    "start_time = time.time()\n",
    "N = 4096\n",
    "T = 1.0 / 800.0\n",
    "x = sc.linspace(0.0, N*T, N)\n",
    "y = 2*nm.cos(5*nm.pi*(30*x) ) + 1.54*nm.cos(2*nm.pi*(20*x) )\n",
    "yf = sc.fft(y)\n",
    "xf = sc.linspace(0.0, 1.0/(2.0*T), N/2) \n",
    "\n",
    "\n",
    "plt.plot(xf, 2.0/N * nm.abs(yf[0:N/2]))\n",
    "plt.grid()\n",
    "plt.show() \n",
    "timePlotScipyFft=time.time() - start_time \n",
    "print(\"Tempo de compilação para a biblioteca Numpy é de %s segundos ---\" % timePlotScipyFft)"
   ]
  },
  {
   "cell_type": "markdown",
   "metadata": {},
   "source": [
    "<h4>Resolução do exemplo usando numpy</h4>"
   ]
  },
  {
   "cell_type": "code",
   "execution_count": 63,
   "metadata": {
    "collapsed": false
   },
   "outputs": [
    {
     "data": {
      "image/png": "[encoded data removed]",
      "text/plain": [
       "<matplotlib.figure.Figure at 0x18013d29588>"
      ]
     },
     "metadata": {},
     "output_type": "display_data"
    },
    {
     "name": "stdout",
     "output_type": "stream",
     "text": [
      "Tempo de compilação para a biblioteca Numpy é de 0.1510636806488037 segundos ---\n"
     ]
    }
   ],
   "source": [
    "start_time = time.time()\n",
    "N = 4096\n",
    "T = 1.0 / 800.0\n",
    "x = nm.linspace(0.0, N*T, N)\n",
    "y = 2*nm.cos(5*nm.pi*(30*x) ) + 1.54*nm.cos(2*nm.pi*(20*x) )\n",
    "yf = nm.fft.fft(y)\n",
    "xf = nm.linspace(0.0, 1.0/(2.0*T), N/2)\n",
    "\n",
    "\n",
    "plt.plot(xf, 2.0/N * nm.abs(yf[0:N/2]))\n",
    "plt.grid()\n",
    "plt.show() \n",
    "timePlotNumpyFft=time.time() - start_time \n",
    "print(\"Tempo de compilação para a biblioteca Numpy é de %s segundos ---\" % timePlotNumpyFft)\n"
   ]
  },
  {
   "cell_type": "markdown",
   "metadata": {},
   "source": [
    "<h4>Resolução do exemplo usando numpy</h4>"
   ]
  },
  {
   "cell_type": "markdown",
   "metadata": {},
   "source": [
    "<h2>Usando IFFT</h2> \n",
    "<hr> \n",
    "<h4>Resolução do exemplo usando scipy</h4>"
   ]
  },
  {
   "cell_type": "code",
   "execution_count": 64,
   "metadata": {
    "collapsed": false
   },
   "outputs": [
    {
     "data": {
      "image/png": "[encoded data removed]",
      "text/plain": [
       "<matplotlib.figure.Figure at 0x18013e73390>"
      ]
     },
     "metadata": {},
     "output_type": "display_data"
    },
    {
     "name": "stdout",
     "output_type": "stream",
     "text": [
      "Tempo de compilação para a biblioteca Scipy é de 0.17903995513916016 segundos ---\n"
     ]
    }
   ],
   "source": [
    "start_time = time.time()\n",
    "N = 4096\n",
    "T = 1.0 / 800.0\n",
    "x = sc.linspace(0.0, N*T, N)\n",
    "y = 2*nm.cos(5*nm.pi*(30*x) ) + 1.54*nm.cos(2*nm.pi*(20*x) )\n",
    "yf = sc.ifft(y)\n",
    "xf = sc.linspace(0.0, 1.0/(2.0*T), N/2) \n",
    "\n",
    "\n",
    "plt.plot(xf, 2.0/N * nm.abs(yf[0:N/2])) \n",
    "plt.grid()\n",
    "plt.show()  \n",
    "timePlotScipyIfft= time.time() - start_time\n",
    "print(\"Tempo de compilação para a biblioteca Scipy é de %s segundos ---\" % timePlotScipyIfft)"
   ]
  },
  {
   "cell_type": "markdown",
   "metadata": {},
   "source": [
    "<h4>Resolução do exemplo usando numpy</h4>"
   ]
  },
  {
   "cell_type": "code",
   "execution_count": 65,
   "metadata": {
    "collapsed": false
   },
   "outputs": [
    {
     "data": {
      "image/png": "[encoded data removed]",
      "text/plain": [
       "<matplotlib.figure.Figure at 0x18013c88e80>"
      ]
     },
     "metadata": {},
     "output_type": "display_data"
    },
    {
     "name": "stdout",
     "output_type": "stream",
     "text": [
      "Tempo de compilação para a biblioteca Numpy é de 0.16051268577575684 segundos ---\n"
     ]
    }
   ],
   "source": [
    "start_time = time.time()\n",
    "N = 4096\n",
    "T = 1.0 / 800.0\n",
    "x = nm.linspace(0.0, N*T, N)\n",
    "y = 2*nm.cos(5*nm.pi*(30*x) ) + 1.54*nm.cos(2*nm.pi*(20*x) )\n",
    "yf = nm.fft.ifft(y)\n",
    "xf = nm.linspace(0.0, 1.0/(2.0*T), N/2)\n",
    "\n",
    "\n",
    "plt.plot(xf, 2.0/N * nm.abs(yf[0:N/2])) \n",
    "plt.grid()\n",
    "plt.show() \n",
    "timePlotNumpyIfft= time.time() - start_time\n",
    "print(\"Tempo de compilação para a biblioteca Numpy é de %s segundos ---\" % timePlotNumpyIfft)"
   ]
  },
  {
   "cell_type": "markdown",
   "metadata": {},
   "source": [
    "# Conclusão \n",
    "----- \n",
    "Para o teste com o vetor de 4096 valores aleatórios temos o gráfico abaixo"
   ]
  },
  {
   "cell_type": "code",
   "execution_count": 66,
   "metadata": {
    "collapsed": false,
    "scrolled": true
   },
   "outputs": [
    {
     "data": {
      "text/plain": [
       "[<matplotlib.lines.Line2D at 0x18013f37e80>,\n",
       " <matplotlib.lines.Line2D at 0x18013f375f8>]"
      ]
     },
     "execution_count": 66,
     "metadata": {},
     "output_type": "execute_result"
    },
    {
     "data": {
      "image/png": "[encoded data removed]",
      "text/plain": [
       "<matplotlib.figure.Figure at 0x18013d29278>"
      ]
     },
     "metadata": {},
     "output_type": "display_data"
    }
   ],
   "source": [
    "k=[1,2,3] \n",
    "c=[timeScipy,timeNumpy,timeMyFFt] \n",
    "b=[timeScipy2,timeNumpy2,timeMyIFFt]\n",
    "plt.grid()\n",
    "plt.xlabel('Biblioteca usada') \n",
    "plt.ylabel('Tempo de compilação')\n",
    "plt.plot(k,c,'--o',k,b,'--o') \n"
   ]
  },
  {
   "cell_type": "markdown",
   "metadata": {},
   "source": [
    "<p>Onde temos que o verde representa o tempo de compilação da IFFT e o azul, temos o tempo de compilação da FFT onde a mesma tende a ter um tempo de compilação menor.A FFT tende nesse caso a ter um tempo de compilação menor,pois o intuito dela é converter um sinal do domínio do tempo para o domínio da frequência</p>"
   ]
  },
  {
   "cell_type": "code",
   "execution_count": 67,
   "metadata": {
    "collapsed": false
   },
   "outputs": [
    {
     "name": "stdout",
     "output_type": "stream",
     "text": [
      "+--------------------+----------------------------------+\n",
      "| Biblioteca usada   |   Tempo de compilação (segundos) |\n",
      "+====================+==================================+\n",
      "| Scipy - FFT        |                      0.00100088  |\n",
      "+--------------------+----------------------------------+\n",
      "| Numpy - FFT        |                      0.000999689 |\n",
      "+--------------------+----------------------------------+\n",
      "| MyFFt              |                      5.60222     |\n",
      "+--------------------+----------------------------------+\n",
      "| Scipy - IFFT       |                      0.00149941  |\n",
      "+--------------------+----------------------------------+\n",
      "| Numpy - IFFT       |                      0.00150108  |\n",
      "+--------------------+----------------------------------+\n",
      "| MyIFFT             |                      6.79474     |\n",
      "+--------------------+----------------------------------+\n"
     ]
    }
   ],
   "source": [
    "table = [[\"Scipy - FFT\",timeScipy],[\"Numpy - FFT\",timeNumpy],[\"MyFFt\",timeMyFFt],[\"Scipy - IFFT\",timeScipy2],\n",
    "         [\"Numpy - IFFT\",timeNumpy2],[\"MyIFFT\",timeMyIFFt]]\n",
    "headers = [\"Biblioteca usada\", \"Tempo de compilação (segundos)\"]\n",
    "print(tabulate(table, headers, tablefmt=\"grid\"))"
   ]
  },
  {
   "cell_type": "markdown",
   "metadata": {},
   "source": [
    "<p>Tabela referente ao tempo gasto para que cada biblioteca compile o cálculo da FFT e IFFT</p>"
   ]
  },
  {
   "cell_type": "markdown",
   "metadata": {},
   "source": [
    "<hr>  \n",
    "<h3>Conclusão do exemplo</h3>\n",
    "<p>Agora iremos construir um gráfico para melhor vizualizarmos de como as bibliotecas se comportam com a resolução completa -cálculo matemático e construção do gráfico- da soma dos cossenos.</p>"
   ]
  },
  {
   "cell_type": "code",
   "execution_count": 68,
   "metadata": {
    "collapsed": false
   },
   "outputs": [
    {
     "data": {
      "text/plain": [
       "[<matplotlib.lines.Line2D at 0x18013f38710>,\n",
       " <matplotlib.lines.Line2D at 0x18013d39048>]"
      ]
     },
     "execution_count": 68,
     "metadata": {},
     "output_type": "execute_result"
    },
    {
     "data": {
      "image/png": "[encoded data removed]",
      "text/plain": [
       "<matplotlib.figure.Figure at 0x18013f38198>"
      ]
     },
     "metadata": {},
     "output_type": "display_data"
    }
   ],
   "source": [
    "k=[1,2] \n",
    "c=[timePlotScipyFft,timePlotNumpyFft] \n",
    "b=[timePlotScipyIfft,timePlotNumpyIfft]\n",
    "plt.grid()\n",
    "plt.xlabel('Biblioteca usada') \n",
    "plt.ylabel('Tempo de compilação')\n",
    "plt.plot(k,c,'--o',k,b,'--*') "
   ]
  },
  {
   "cell_type": "markdown",
   "metadata": {},
   "source": [
    "<p>Como o esperado, o tempo gasto para poder calcular a FFT tende a ser menor que o tempo gasto para calcular a IFFT</p>"
   ]
  },
  {
   "cell_type": "code",
   "execution_count": 69,
   "metadata": {
    "collapsed": false
   },
   "outputs": [
    {
     "name": "stdout",
     "output_type": "stream",
     "text": [
      "+--------------------+----------------------------------+\n",
      "| Biblioteca usada   |   Tempo de compilação (segundos) |\n",
      "+====================+==================================+\n",
      "| Scipy - FFT        |                         0.161661 |\n",
      "+--------------------+----------------------------------+\n",
      "| Numpy - FFT        |                         0.151064 |\n",
      "+--------------------+----------------------------------+\n",
      "| Scipy - IFFT       |                         0.17904  |\n",
      "+--------------------+----------------------------------+\n",
      "| Numpy - IFFT       |                         0.160513 |\n",
      "+--------------------+----------------------------------+\n"
     ]
    }
   ],
   "source": [
    "table = [[\"Scipy - FFT\",timePlotScipyFft],[\"Numpy - FFT\",timePlotNumpyFft],\n",
    "         [\"Scipy - IFFT\",timePlotScipyIfft],[\"Numpy - IFFT\",timePlotNumpyIfft]]\n",
    "headers = [\"Biblioteca usada\", \"Tempo de compilação (segundos)\"]\n",
    "print(tabulate(table, headers, tablefmt=\"grid\"))"
   ]
  },
  {
   "cell_type": "markdown",
   "metadata": {},
   "source": [
    "<p>Tabela referente ao tempo gasto para que cada biblioteca compile o cálculo e a construção do gráfico da soma dos cossenos, usando FFT e IFFT</p>"
   ]
  },
  {
   "cell_type": "markdown",
   "metadata": {},
   "source": [
    "<h3>Problemas encontrados</h3> \n",
    "<p>Para esse projeto tivemos alguns problemas no decorrer do desenvolvmento.O problema a ser destacado foi o usa e a instação do pyFFTW, não conseguimos instalar e nem usar,tentamos tanto no windows como no linux, não obtivemos sucesso</p>"
   ]
  },
  {
   "cell_type": "markdown",
   "metadata": {},
   "source": [
    "<html> \n",
    "<body>\n",
    "\t<h1>Referências</h1>\n",
    "\t<li>Taneja, HC (2008), \"Chapter 18: Fourier integrals and Fourier transforms\", Advanced Engineering Mathematics:, Volume 2, New Delhi, India: I. K. International Pvt Ltd, ISBN 8189866567.</li> \n",
    "    \t<li>www.astro.if.ufrgs.br/med/imagens/fourier.htm</li>\n",
    "        <li>www.en.wikipedia.org/wiki/Fourier_transform#CITEREFTaneja2008</li>\n",
    "        <li>www.docs.scipy.org/doc/numpy-1.10.1/index.html</li>\n",
    "        <li>www.cis.rit.edu/class/simg716/Gauss_History_FFT.pdf</li>\n",
    "        <li>www2.math.ethz.ch/education/bachelor/seminars/fs2008/nas/woerner.pdf</li> \n",
    "        <li>www.en.wikipedia.org/wiki/File:Fourier_transform_time_and_frequency_domains_(small).gif</li> \n",
    "        <li>www.pypi.python.org/pypi/tabulate</li> \n",
    "        <li>www.researchgate.net/post/Why_do_we_use_IFFT</li> \n",
    "        <li>www.ams.org/journals/mcom/1965-19-090/S0025-5718-1965-0178586-1/</li>\n",
    "</body>\n",
    "<html>\n"
   ]
  }
 ],
 "metadata": {
  "kernelspec": {
   "display_name": "Python 3",
   "language": "python",
   "name": "python3"
  },
  "language_info": {
   "codemirror_mode": {
    "name": "ipython",
    "version": 3
   },
   "file_extension": ".py",
   "mimetype": "text/x-python",
   "name": "python",
   "nbconvert_exporter": "python",
   "pygments_lexer": "ipython3",
   "version": "3.5.1"
  }
 },
 "nbformat": 4,
 "nbformat_minor": 0
}
