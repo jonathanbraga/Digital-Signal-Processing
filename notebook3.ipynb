{
 "cells": [
  {
   "cell_type": "markdown",
   "metadata": {},
   "source": [
    "# Sumário\n",
    "<ul>\n",
    "    <li><a href=\"#Teste-da-transformada-rápida-de-Fourier-(FFT)\">FFT</a></li>\n",
    "        <ul> \n",
    "            <li><a href=\"#Resolução-da-FFT-usando-a-função-nativa\">Usando a função nativa do Julia</a></li> \n",
    "            <li><a href=\"#Resolução-da-FFT-usando-myFFT\">Usando a função myFFT</a></li>\n",
    "        </ul> \n",
    "     <li><a href=\"#Teste-da-transformada-rápida-de-Fourier-inversa-(IFFT)\">IFFT</a></li> \n",
    "         <ul> \n",
    "            <li><a href=\"#Resolução-da-FFT-usando-a-função-nativa\">Usando a função nativa do Julia</a></li> \n",
    "            <li><a href=\"#Resolução-da-IFFT-usando-myIFFT\">Usando a função myIFFT</a></li>\n",
    "        </ul> \n",
    "      <li><a href=\"#Conclusão\">Conclusão</a></li>\n",
    "      <li><a href=\"#Referências\">Referência</a></li>\n",
    "<ul> \n",
    "\n"
   ]
  },
  {
   "cell_type": "markdown",
   "metadata": {},
   "source": [
    "<h1>Teste da transformada rápida de Fourier (FFT)</h1> \n",
    "<hr>\n",
    "<p>Nessa parte do trabalho iremos testar como o cálculo da FFT irá se comportar com as bibliotecas nativa do julia e depois comparar com o myFFT </p>\n",
    "$$y[k]=\\sum\\limits_{n=0}^{\\mbox{N-1}} W_n  x[n]$$ \n",
    "$$W_n = e^{-2 \\pi j\\frac{km}{N}}$$\n",
    "<hr> \n",
    "<p>Iremos calcular a FFT de um vetor com 4096 valores usando as bibliotecas propostas e assim iremos analisar o tempo de compilação de cada.</p>"
   ]
  },
  {
   "cell_type": "markdown",
   "metadata": {},
   "source": [
    "<h4>Resolução da FFT usando a função nativa</h4>"
   ]
  },
  {
   "cell_type": "code",
   "execution_count": 33,
   "metadata": {
    "collapsed": false
   },
   "outputs": [
    {
     "name": "stdout",
     "output_type": "stream",
     "text": [
      "  0.000165 seconds (66 allocations: 131.141 KB)\n"
     ]
    }
   ],
   "source": [
    "# Aqui iremos implementar o  o cálcula da FFT usando julia\n",
    "vetorFftJulia=[1:1:4096];\n",
    "@time fft(vetorFftJulia); \n"
   ]
  },
  {
   "cell_type": "markdown",
   "metadata": {},
   "source": [
    "<h4>Resolução da FFT usando myFFT</h4>"
   ]
  },
  {
   "cell_type": "code",
   "execution_count": 34,
   "metadata": {
    "collapsed": false
   },
   "outputs": [
    {
     "data": {
      "text/plain": [
       "myfft (generic function with 1 method)"
      ]
     },
     "execution_count": 34,
     "metadata": {},
     "output_type": "execute_result"
    }
   ],
   "source": [
    "# criando a função myFFT, proposta para o trabalho\n",
    "function myfft(x) \n",
    "    N=4096    \n",
    "    for i=1:N \n",
    "        x[i]= cos(2*pi*i/N)-1im*sin(2*pi*i/N)\n",
    "        end \n",
    "end"
   ]
  },
  {
   "cell_type": "code",
   "execution_count": 35,
   "metadata": {
    "collapsed": false
   },
   "outputs": [
    {
     "name": "stdout",
     "output_type": "stream",
     "text": [
      "  0.008397 seconds (3.94 k allocations: 181.251 KB)\n"
     ]
    }
   ],
   "source": [
    "N=4096 \n",
    "vetorFftMy=Complex32[1:1:N];\n",
    "@time myfft(vetorFftMy)"
   ]
  },
  {
   "cell_type": "markdown",
   "metadata": {
    "collapsed": true
   },
   "source": [
    "<h1>Teste da transformada rápida de Fourier inversa (IFFT)</h1> \n",
    "<hr>\n",
    "<p>Nessa parte do trabalho iremos testar como o cálculo da IFFT irá se comportar com as bibliotecas nativa do julia e depois comparar com o myIFFT </p>\n",
    "$$x[n]=\\frac{1}{N} \\times \\sum\\limits_{n=0}^{\\mbox{N-1}} W_n  y[k]$$ \n",
    "$$W_n = e^{2 \\pi j\\frac{km}{N}}$$\n",
    "<hr> \n",
    "<p>Iremos calcular a FFT de um vetor com 4096 valores usando as bibliotecas propostas e assim iremos analisar o tempo de compilação de cada.</p>"
   ]
  },
  {
   "cell_type": "markdown",
   "metadata": {},
   "source": [
    "<h4>Resolução da IFFT usando a função nativa</h4>"
   ]
  },
  {
   "cell_type": "code",
   "execution_count": 36,
   "metadata": {
    "collapsed": false
   },
   "outputs": [
    {
     "name": "stdout",
     "output_type": "stream",
     "text": [
      "  0.000211 seconds (76 allocations: 131.688 KB)\n"
     ]
    }
   ],
   "source": [
    "# Aqui iremos implementar o  o cálcula da FFT usando julia\n",
    "vetorIfftJulia=[1:1:4096];\n",
    "@time ifft(vetorIfftJulia); "
   ]
  },
  {
   "cell_type": "markdown",
   "metadata": {},
   "source": [
    "<h4>Resolução da IFFT usando myIFFT</h4>"
   ]
  },
  {
   "cell_type": "code",
   "execution_count": 42,
   "metadata": {
    "collapsed": false
   },
   "outputs": [
    {
     "data": {
      "text/plain": [
       "myifft (generic function with 1 method)"
      ]
     },
     "execution_count": 42,
     "metadata": {},
     "output_type": "execute_result"
    }
   ],
   "source": [
    "# criando a função myIFFT, proposta para o trabalho\n",
    "function myifft(x) \n",
    "    N=4096    \n",
    "    for i=1:N \n",
    "        x[i]=1/N*cos(2*pi*i/N)-1im*sin(2*pi*i/N)\n",
    "        end \n",
    "end"
   ]
  },
  {
   "cell_type": "code",
   "execution_count": 43,
   "metadata": {
    "collapsed": false
   },
   "outputs": [
    {
     "name": "stdout",
     "output_type": "stream",
     "text": [
      "  0.012006 seconds (4.31 k allocations: 196.286 KB)\n"
     ]
    }
   ],
   "source": [
    "N=4096 \n",
    "vetorIfftMy=Complex32[1:1:N];\n",
    "@time myifft(vetorIfftMy)"
   ]
  },
  {
   "cell_type": "markdown",
   "metadata": {
    "collapsed": true
   },
   "source": [
    "# Conclusão \n",
    "---- \n",
    "Ao termino do trabalho podemos concluir que assim como no Python(notebook 2), as bibliotecas ou funções nativas(no caso do julia,que já nos fornece uma gama de funções), tiveram um tempo de compilação menor,para as funções FFT() e IFFT(),já para as funções myFFT() e myIFFT() - que foram criadas no decorrer do trabalho- tiveram um tempo de compilação maior."
   ]
  },
  {
   "cell_type": "markdown",
   "metadata": {
    "collapsed": true
   },
   "source": [
    "# Referências \n",
    "----- \n",
    "<li>www.docs.julialang.org/en/release-0.4/manual/</li>\n",
    "<li>www.en.wikibooks.org/wiki/Introducing_Julia/</li>"
   ]
  }
 ],
 "metadata": {
  "kernelspec": {
   "display_name": "Julia 0.4.5",
   "language": "julia",
   "name": "julia-0.4"
  },
  "language_info": {
   "file_extension": ".jl",
   "mimetype": "application/julia",
   "name": "julia",
   "version": "0.4.5"
  }
 },
 "nbformat": 4,
 "nbformat_minor": 0
}
